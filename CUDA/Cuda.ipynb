{
  "nbformat": 4,
  "nbformat_minor": 0,
  "metadata": {
    "colab": {
      "name": "Cuda.ipynb",
      "provenance": [],
      "collapsed_sections": []
    },
    "kernelspec": {
      "name": "python3",
      "display_name": "Python 3"
    },
    "accelerator": "GPU"
  },
  "cells": [
    {
      "cell_type": "code",
      "metadata": {
        "colab": {
          "base_uri": "https://localhost:8080/"
        },
        "id": "b-6p9NuDxWA8",
        "outputId": "4d6e04d7-e7b1-4874-ff9c-bb92d419ea9b"
      },
      "source": [
        "!nvcc --version"
      ],
      "execution_count": null,
      "outputs": [
        {
          "output_type": "stream",
          "text": [
            "nvcc: NVIDIA (R) Cuda compiler driver\n",
            "Copyright (c) 2005-2019 NVIDIA Corporation\n",
            "Built on Sun_Jul_28_19:07:16_PDT_2019\n",
            "Cuda compilation tools, release 10.1, V10.1.243\n"
          ],
          "name": "stdout"
        }
      ]
    },
    {
      "cell_type": "code",
      "metadata": {
        "colab": {
          "base_uri": "https://localhost:8080/"
        },
        "id": "VzZ-hNHtxZn_",
        "outputId": "79da45a7-e38a-4ea8-b760-80d2554ad330"
      },
      "source": [
        "!pip install git+git://github.com/andreinechaev/nvcc4jupyter.git"
      ],
      "execution_count": null,
      "outputs": [
        {
          "output_type": "stream",
          "text": [
            "Collecting git+git://github.com/andreinechaev/nvcc4jupyter.git\n",
            "  Cloning git://github.com/andreinechaev/nvcc4jupyter.git to /tmp/pip-req-build-rtdri4m9\n",
            "  Running command git clone -q git://github.com/andreinechaev/nvcc4jupyter.git /tmp/pip-req-build-rtdri4m9\n",
            "Building wheels for collected packages: NVCCPlugin\n",
            "  Building wheel for NVCCPlugin (setup.py) ... \u001b[?25l\u001b[?25hdone\n",
            "  Created wheel for NVCCPlugin: filename=NVCCPlugin-0.0.2-cp36-none-any.whl size=4307 sha256=27378ddf369789dcb308658a221af9bb511685f872e1d3b2b7e1c9343b5429fb\n",
            "  Stored in directory: /tmp/pip-ephem-wheel-cache-6hk5cc67/wheels/10/c2/05/ca241da37bff77d60d31a9174f988109c61ba989e4d4650516\n",
            "Successfully built NVCCPlugin\n",
            "Installing collected packages: NVCCPlugin\n",
            "Successfully installed NVCCPlugin-0.0.2\n"
          ],
          "name": "stdout"
        }
      ]
    },
    {
      "cell_type": "code",
      "metadata": {
        "colab": {
          "base_uri": "https://localhost:8080/"
        },
        "id": "nzLE4pTKxeuR",
        "outputId": "24ab954c-7e13-48c8-e8e7-aaf78b84e1a6"
      },
      "source": [
        "%load_ext nvcc_plugin"
      ],
      "execution_count": null,
      "outputs": [
        {
          "output_type": "stream",
          "text": [
            "created output directory at /content/src\n",
            "Out bin /content/result.out\n"
          ],
          "name": "stdout"
        }
      ]
    },
    {
      "cell_type": "code",
      "metadata": {
        "colab": {
          "base_uri": "https://localhost:8080/"
        },
        "id": "3_50zxv3xhWh",
        "outputId": "4554d1f5-f915-46d2-a5eb-ec85a92ce00d"
      },
      "source": [
        "%%cu \n",
        "#include <iostream> \n",
        "int main() \n",
        "{ \n",
        "    std::cout << \"Welcome!\\n\"; \n",
        "    return 0; \n",
        "} "
      ],
      "execution_count": null,
      "outputs": [
        {
          "output_type": "stream",
          "text": [
            "Welcome!\n",
            "\n"
          ],
          "name": "stdout"
        }
      ]
    },
    {
      "cell_type": "code",
      "metadata": {
        "colab": {
          "base_uri": "https://localhost:8080/"
        },
        "id": "uq_jlKpv8Fka",
        "outputId": "c6486966-ca25-4a94-b5ee-bbfcd97d5035"
      },
      "source": [
        "%%cu\n",
        "#include <stdio.h>\n",
        "#define N 10\n",
        "\n",
        "__global__\n",
        "void add(int *a, int *b) {\n",
        "    int i = blockIdx.x;\n",
        "\tprintf(\"Hello cuda from thread %d\\n\", i);\n",
        "    b[i] = 2*a[i];\n",
        "}\n",
        "\n",
        "int main() {\n",
        "    int ha[N], hb[N];\n",
        "    int *da, *db;\n",
        "    cudaMalloc((void **)&da, N*sizeof(int));\n",
        "    cudaMalloc((void **)&db, N*sizeof(int));\n",
        "    for (int i = 0; i<N; ++i) {\n",
        "        ha[i] = i;\n",
        "    }\n",
        "    cudaMemcpy(da, ha, N*sizeof(int), cudaMemcpyHostToDevice);\n",
        "    add<<<N, 1>>>(da, db);\n",
        "    cudaMemcpy(hb, db, N*sizeof(int), cudaMemcpyDeviceToHost);\n",
        "\n",
        "    for (int i = 0; i<N; ++i) {\n",
        "        printf(\"%d\\n\", hb[i]);\n",
        "    }\n",
        "\n",
        "    cudaFree(da);\n",
        "    cudaFree(db);\n",
        "\n",
        "    return 0;\n",
        "}"
      ],
      "execution_count": null,
      "outputs": [
        {
          "output_type": "stream",
          "text": [
            "Hello cuda from thread 4\n",
            "Hello cuda from thread 8\n",
            "Hello cuda from thread 0\n",
            "Hello cuda from thread 6\n",
            "Hello cuda from thread 9\n",
            "Hello cuda from thread 7\n",
            "Hello cuda from thread 2\n",
            "Hello cuda from thread 5\n",
            "Hello cuda from thread 3\n",
            "Hello cuda from thread 1\n",
            "0\n",
            "2\n",
            "4\n",
            "6\n",
            "8\n",
            "10\n",
            "12\n",
            "14\n",
            "16\n",
            "18\n",
            "\n"
          ],
          "name": "stdout"
        }
      ]
    },
    {
      "cell_type": "code",
      "metadata": {
        "id": "zqTmS72u8H6c"
      },
      "source": [
        ""
      ],
      "execution_count": null,
      "outputs": []
    }
  ]
}