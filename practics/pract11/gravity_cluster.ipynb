{
 "cells": [
  {
   "cell_type": "code",
   "execution_count": 1,
   "id": "07dd9d47",
   "metadata": {},
   "outputs": [],
   "source": [
    "# PyParticles : Particles simulation in python\n",
    "# Copyright (C) 2012  Simone Riva mail:  simone {dot} rva {at} gmail {dot} com\n",
    "#\n",
    "# This program is free software: you can redistribute it and/or modify\n",
    "# it under the terms of the GNU General Public License as published by\n",
    "# the Free Software Foundation, either version 3 of the License, or\n",
    "# (at your option) any later version.\n",
    "#\n",
    "# This program is distributed in the hope that it will be useful,\n",
    "# but WITHOUT ANY WARRANTY; without even the implied warranty of\n",
    "# MERCHANTABILITY or FITNESS FOR A PARTICULAR PURPOSE.  See the\n",
    "# GNU General Public License for more details.\n",
    "#\n",
    "# You should have received a copy of the GNU General Public License\n",
    "# along with this program.  If not, see <http://www.gnu.org/licenses/>.\n",
    "\n",
    "import pyparticles.pset.rand_cluster as clu\n",
    "import pyparticles.forces.gravity as gr\n",
    "\n",
    "import pyparticles.ode.euler_solver as els\n",
    "\n",
    "import pyparticles.pset.particles_set as ps\n",
    "import pyparticles.pset.opencl_context as occ \n",
    "\n",
    "import pyparticles.animation.animated_ogl as aogl\n",
    "\n",
    "from pyparticles.utils.pypart_global import test_pyopencl\n",
    "\n",
    "import numpy as np\n",
    "\n",
    "def gravity_cluster():\n",
    "    \n",
    "    if not test_pyopencl() :\n",
    "        print(\"\")\n",
    "        print(\"Attention !!! \")\n",
    "        print(\" This demo works only with PyOpenCL: \\n  http://mathema.tician.de/software/pyopencl \\n  http://www.khronos.org/opencl/ \\n \")\n",
    "        print(\" Please install the package: python-pyopencl for continuing\")\n",
    "        print(\"\")\n",
    "        return \n",
    "        \n",
    "    \n",
    "    G = 0.000001\n",
    "    steps = 100000000\n",
    "    \n",
    "    n = 3000\n",
    "    dt = 0.04\n",
    "    \n",
    "    pset = ps.ParticlesSet( n , dtype=np.float32 ) \n",
    "        \n",
    "    cs = clu.RandGalaxyCluster()\n",
    "    \n",
    "    print(\"Building initial galaxy .... \")\n",
    "    cs.insert3( pset.X, M=pset.M, V=pset.V , G=G )\n",
    "    \n",
    "    try :\n",
    "        occx = occ.OpenCLcontext(  pset.size , pset.dim , (occ.OCLC_X|occ.OCLC_V|occ.OCLC_A|occ.OCLC_M) )\n",
    "    except :\n",
    "        print(\"\")\n",
    "        print(\"ERROR !!! \")\n",
    "        print(\" Please verify your opencl installation \")\n",
    "        print(\" Probably you must install your GPU OpenCL drivers\")\n",
    "        print(\"\")\n",
    "        return \n",
    "    \n",
    "    grav = gr.GravityOCL( pset.size , Consts=G , ocl_context=occx  )\n",
    "    grav.set_masses( pset.M )\n",
    "    \n",
    "    grav.update_force( pset )\n",
    "    \n",
    "    solver = els.EulerSolverOCL( grav , pset , dt , ocl_context=occx )\n",
    "    \n",
    "    a = aogl.AnimatedGl()\n",
    "        \n",
    "    a.draw_particles.set_draw_model( a.draw_particles.DRAW_MODEL_VECTOR )\n",
    "        \n",
    "    a.ode_solver = solver\n",
    "    a.pset = pset\n",
    "    a.steps = steps\n",
    "    \n",
    "    a.build_animation()\n",
    "    \n",
    "    a.start()\n",
    "    \n",
    "    return"
   ]
  },
  {
   "cell_type": "code",
   "execution_count": null,
   "id": "a3a7ce86",
   "metadata": {},
   "outputs": [
    {
     "name": "stdout",
     "output_type": "stream",
     "text": [
      "Building initial galaxy .... \n"
     ]
    },
    {
     "name": "stderr",
     "output_type": "stream",
     "text": [
      "C:\\Users\\Cristin\\anaconda3\\lib\\site-packages\\pyparticles\\pset\\rand_cluster.py:166: RuntimeWarning: invalid value encountered in true_divide\n",
      "  c = ( c.T / np.sqrt( np.sum( c**2 , 1 ) ) ).T\n",
      "C:\\Users\\Cristin\\anaconda3\\lib\\site-packages\\pyparticles\\forces\\gravity.py:75: RuntimeWarning: divide by zero encountered in true_divide\n",
      "  self.__Fm[:] = - self.__G * self.__M[:] / ( ( self.__D[:] ) ** 3.0 )\n",
      "C:\\Users\\Cristin\\anaconda3\\lib\\site-packages\\pyopencl\\__init__.py:274: CompilerWarning: Non-empty compiler output encountered. Set the environment variable PYOPENCL_COMPILER_OUTPUT=1 to see more.\n",
      "  warn(\"Non-empty compiler output encountered. Set the \"\n"
     ]
    },
    {
     "name": "stdout",
     "output_type": "stream",
     "text": [
      "ERROR: VSYNC not disabled\n"
     ]
    },
    {
     "name": "stderr",
     "output_type": "stream",
     "text": [
      "C:\\Users\\Cristin\\anaconda3\\lib\\site-packages\\pyparticles\\ogl\\trackball.py:114: RuntimeWarning: invalid value encountered in true_divide\n",
      "  rot_axis = rot_axis / np.linalg.norm( rot_axis )\n"
     ]
    }
   ],
   "source": [
    "gravity_cluster()"
   ]
  },
  {
   "cell_type": "code",
   "execution_count": null,
   "id": "03a23af8",
   "metadata": {},
   "outputs": [],
   "source": []
  }
 ],
 "metadata": {
  "kernelspec": {
   "display_name": "Python 3 (ipykernel)",
   "language": "python",
   "name": "python3"
  },
  "language_info": {
   "codemirror_mode": {
    "name": "ipython",
    "version": 3
   },
   "file_extension": ".py",
   "mimetype": "text/x-python",
   "name": "python",
   "nbconvert_exporter": "python",
   "pygments_lexer": "ipython3",
   "version": "3.9.12"
  }
 },
 "nbformat": 4,
 "nbformat_minor": 5
}
